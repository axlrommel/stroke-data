{
 "cells": [
  {
   "cell_type": "code",
   "execution_count": 56,
   "id": "aa32f107",
   "metadata": {},
   "outputs": [
    {
     "name": "stdout",
     "output_type": "stream",
     "text": [
      "Defaulting to user installation because normal site-packages is not writeable\n",
      "Collecting scikit-learn\n",
      "  Downloading scikit_learn-1.1.3-cp38-cp38-macosx_10_9_x86_64.whl (8.6 MB)\n",
      "\u001b[2K     \u001b[38;2;114;156;31m━━━━━━━━━━━━━━━━━━━━━━━━━━━━━━━━━━━━━━━━\u001b[0m \u001b[32m8.6/8.6 MB\u001b[0m \u001b[31m27.3 MB/s\u001b[0m eta \u001b[36m0:00:00\u001b[0mm eta \u001b[36m0:00:01\u001b[0m[36m0:00:01\u001b[0m\n",
      "\u001b[?25hCollecting threadpoolctl>=2.0.0\n",
      "  Downloading threadpoolctl-3.1.0-py3-none-any.whl (14 kB)\n",
      "Collecting scipy>=1.3.2\n",
      "  Downloading scipy-1.9.3-cp38-cp38-macosx_10_9_x86_64.whl (34.2 MB)\n",
      "\u001b[2K     \u001b[38;2;114;156;31m━━━━━━━━━━━━━━━━━━━━━━━━━━━━━━━━━━━━━━━━\u001b[0m \u001b[32m34.2/34.2 MB\u001b[0m \u001b[31m25.8 MB/s\u001b[0m eta \u001b[36m0:00:00\u001b[0mm eta \u001b[36m0:00:01\u001b[0m0:01\u001b[0m:01\u001b[0m\n",
      "\u001b[?25hRequirement already satisfied: numpy>=1.17.3 in /Users/rav0214/Library/Python/3.8/lib/python/site-packages (from scikit-learn) (1.22.3)\n",
      "Collecting joblib>=1.0.0\n",
      "  Downloading joblib-1.2.0-py3-none-any.whl (297 kB)\n",
      "\u001b[2K     \u001b[38;2;114;156;31m━━━━━━━━━━━━━━━━━━━━━━━━━━━━━━━━━━━━━━\u001b[0m \u001b[32m298.0/298.0 KB\u001b[0m \u001b[31m10.1 MB/s\u001b[0m eta \u001b[36m0:00:00\u001b[0m\n",
      "\u001b[?25hInstalling collected packages: threadpoolctl, scipy, joblib, scikit-learn\n",
      "Successfully installed joblib-1.2.0 scikit-learn-1.1.3 scipy-1.9.3 threadpoolctl-3.1.0\n",
      "\u001b[33mWARNING: You are using pip version 22.0.4; however, version 22.3.1 is available.\n",
      "You should consider upgrading via the '/Library/Developer/CommandLineTools/usr/bin/python3 -m pip install --upgrade pip' command.\u001b[0m\u001b[33m\n",
      "\u001b[0m"
     ]
    }
   ],
   "source": [
    "!pip install scikit-learn\n"
   ]
  },
  {
   "cell_type": "code",
   "execution_count": 47,
   "id": "64e9e26f",
   "metadata": {},
   "outputs": [],
   "source": [
    "def get_dataset():\n",
    "    import pandas as pd\n",
    "    \n",
    "    df = pd.read_csv('./healthcare-dataset-stroke-data.csv')\n",
    "    df1 = df.dropna()\n",
    "    return df1"
   ]
  },
  {
   "cell_type": "code",
   "execution_count": 49,
   "id": "0aaea9d9",
   "metadata": {},
   "outputs": [
    {
     "name": "stdout",
     "output_type": "stream",
     "text": [
      "columns: ['id' 'gender' 'age' 'hypertension' 'heart_disease' 'ever_married'\n",
      " 'work_type' 'Residence_type' 'avg_glucose_level' 'bmi' 'smoking_status'\n",
      " 'stroke']\n",
      "unique gender ['Male' 'Female' 'Other']\n",
      "hypertension [0 1]\n",
      "heart_disease [1 0]\n",
      "ever_married ['Yes' 'No']\n",
      "work_type ['Private' 'Self-employed' 'Govt_job' 'children' 'Never_worked']\n",
      "Residence_type ['Urban' 'Rural']\n",
      "smoking_status ['formerly smoked' 'never smoked' 'smokes' 'Unknown']\n",
      "<bound method NDFrame.head of          id  gender   age  hypertension  heart_disease ever_married  \\\n",
      "0      9046    Male  67.0             0              1          Yes   \n",
      "2     31112    Male  80.0             0              1          Yes   \n",
      "3     60182  Female  49.0             0              0          Yes   \n",
      "4      1665  Female  79.0             1              0          Yes   \n",
      "5     56669    Male  81.0             0              0          Yes   \n",
      "...     ...     ...   ...           ...            ...          ...   \n",
      "5104  14180  Female  13.0             0              0           No   \n",
      "5106  44873  Female  81.0             0              0          Yes   \n",
      "5107  19723  Female  35.0             0              0          Yes   \n",
      "5108  37544    Male  51.0             0              0          Yes   \n",
      "5109  44679  Female  44.0             0              0          Yes   \n",
      "\n",
      "          work_type Residence_type  avg_glucose_level   bmi   smoking_status  \\\n",
      "0           Private          Urban             228.69  36.6  formerly smoked   \n",
      "2           Private          Rural             105.92  32.5     never smoked   \n",
      "3           Private          Urban             171.23  34.4           smokes   \n",
      "4     Self-employed          Rural             174.12  24.0     never smoked   \n",
      "5           Private          Urban             186.21  29.0  formerly smoked   \n",
      "...             ...            ...                ...   ...              ...   \n",
      "5104       children          Rural             103.08  18.6          Unknown   \n",
      "5106  Self-employed          Urban             125.20  40.0     never smoked   \n",
      "5107  Self-employed          Rural              82.99  30.6     never smoked   \n",
      "5108        Private          Rural             166.29  25.6  formerly smoked   \n",
      "5109       Govt_job          Urban              85.28  26.2          Unknown   \n",
      "\n",
      "      stroke  \n",
      "0          1  \n",
      "2          1  \n",
      "3          1  \n",
      "4          1  \n",
      "5          1  \n",
      "...      ...  \n",
      "5104       0  \n",
      "5106       0  \n",
      "5107       0  \n",
      "5108       0  \n",
      "5109       0  \n",
      "\n",
      "[4909 rows x 12 columns]>\n"
     ]
    }
   ],
   "source": [
    "df = get_dataset()\n",
    "# print(df.info())\n",
    "print('columns:', df.columns.values)\n",
    "print('unique gender', df['gender'].unique())\n",
    "print('hypertension', df['hypertension'].unique())\n",
    "print('heart_disease', df['heart_disease'].unique())\n",
    "print('ever_married', df['ever_married'].unique())\n",
    "print('work_type', df['work_type'].unique())\n",
    "print('Residence_type', df['Residence_type'].unique())\n",
    "print('smoking_status', df['smoking_status'].unique())\n",
    "print(df.head)"
   ]
  },
  {
   "cell_type": "code",
   "execution_count": 59,
   "id": "4f739a0f",
   "metadata": {},
   "outputs": [],
   "source": [
    "def preproc():\n",
    "    from sklearn import preprocessing\n",
    "    le = preprocessing.LabelEncoder()\n",
    "    df = get_dataset()\n",
    "    X = df[['gender', 'ever_married', 'work_type', 'Residence_type', 'smoking_status']]\n",
    "    X_2 = X.apply(le.fit_transform)\n",
    "    print(X_2.head)\n",
    "    "
   ]
  },
  {
   "cell_type": "code",
   "execution_count": 60,
   "id": "9e2a9a58",
   "metadata": {},
   "outputs": [
    {
     "name": "stdout",
     "output_type": "stream",
     "text": [
      "<bound method NDFrame.head of       gender  ever_married  work_type  Residence_type  smoking_status\n",
      "0          1             1          2               1               1\n",
      "2          1             1          2               0               2\n",
      "3          0             1          2               1               3\n",
      "4          0             1          3               0               2\n",
      "5          1             1          2               1               1\n",
      "...      ...           ...        ...             ...             ...\n",
      "5104       0             0          4               0               0\n",
      "5106       0             1          3               1               2\n",
      "5107       0             1          3               0               2\n",
      "5108       1             1          2               0               1\n",
      "5109       0             1          0               1               0\n",
      "\n",
      "[4909 rows x 5 columns]>\n"
     ]
    }
   ],
   "source": [
    "preproc()"
   ]
  },
  {
   "cell_type": "code",
   "execution_count": 21,
   "id": "40bb2866",
   "metadata": {},
   "outputs": [],
   "source": [
    "def plotXY(X, y, xlabel, ylabel, title):\n",
    "\n",
    "    import matplotlib.pyplot as plt\n",
    "  \n",
    "    plt.plot(X,y,'ro')\n",
    "    plt.ylabel(ylabel)\n",
    "    plt.xlabel(xlabel)\n",
    "    plt.title(title)\n",
    "    plt.show()"
   ]
  },
  {
   "cell_type": "code",
   "execution_count": 27,
   "id": "662a4064",
   "metadata": {},
   "outputs": [
    {
     "name": "stdout",
     "output_type": "stream",
     "text": [
      "columns: ['id' 'gender' 'age' 'hypertension' 'heart_disease' 'ever_married'\n",
      " 'work_type' 'Residence_type' 'avg_glucose_level' 'bmi' 'smoking_status'\n",
      " 'stroke']\n"
     ]
    },
    {
     "data": {
      "image/png": "[encoded data removed]",
      "text/plain": [
       "<Figure size 640x480 with 1 Axes>"
      ]
     },
     "metadata": {},
     "output_type": "display_data"
    }
   ],
   "source": [
    "df = get_dataset()\n",
    "plotXY(df['age'], df['work_type'], 'age', 'work_type', 'Age vs work_type')\n",
    "\n"
   ]
  },
  {
   "cell_type": "code",
   "execution_count": null,
   "id": "f566091f",
   "metadata": {},
   "outputs": [],
   "source": []
  }
 ],
 "metadata": {
  "kernelspec": {
   "display_name": "Python 3 (ipykernel)",
   "language": "python",
   "name": "python3"
  },
  "language_info": {
   "codemirror_mode": {
    "name": "ipython",
    "version": 3
   },
   "file_extension": ".py",
   "mimetype": "text/x-python",
   "name": "python",
   "nbconvert_exporter": "python",
   "pygments_lexer": "ipython3",
   "version": "3.8.9"
  }
 },
 "nbformat": 4,
 "nbformat_minor": 5
}
